{
 "cells": [
  {
   "cell_type": "code",
   "execution_count": 9,
   "metadata": {},
   "outputs": [],
   "source": [
    "import Pkg; Pkg.add(\"Distributions\")"
   ]
  },
  {
   "cell_type": "code",
   "execution_count": 10,
   "metadata": {},
   "outputs": [],
   "source": [
    "using SpecialFunctions\n",
    "using PyPlot\n",
    "using LinearAlgebra\n",
    "using Random, Distributions\n",
    "using KernelDensity\n",
    "using LaTeXStrings\n",
    "using JLD\n",
    "using StatsBase\n",
    "using Dates"
   ]
  },
  {
   "cell_type": "code",
   "execution_count": 16,
   "metadata": {},
   "outputs": [],
   "source": [
    "γ = 0.5772156649015328606065121; # Euler-Mascheroni constant\n",
    "Ein(z) = (z == 0) ? 0 : γ + log(abs(z)) - expinti(-z);\n",
    "k(x,y,σ) = - σ^2 * Ein(-x⋅y / σ^2);"
   ]
  },
  {
   "cell_type": "code",
   "execution_count": 17,
   "metadata": {},
   "outputs": [],
   "source": [
    "dist = Uniform(-1,1);"
   ]
  },
  {
   "cell_type": "code",
   "execution_count": 18,
   "metadata": {},
   "outputs": [],
   "source": [
    "dimensions = [1 3 6 10]\n",
    "sigmas = [0.02 0.05 0.1 0.2 0.5 1]\n",
    "EkXX_lookup = zeros(length(dimensions), length(sigmas))\n",
    "EkX1X2_lookup = zeros(length(dimensions), length(sigmas))\n",
    "\n",
    "N = 1000000\n",
    "\n",
    "for (i,d) in enumerate(dimensions)\n",
    "    for (j, σ) in enumerate(sigmas)\n",
    "        EkXX = 0\n",
    "        for i = 1:N\n",
    "            x = rand(dist, d)\n",
    "            EkXX += k(x,x,σ)\n",
    "        end\n",
    "        EkXX /= N\n",
    "        EkXX_lookup[i,j] = EkXX\n",
    "        \n",
    "        EkX1X2 = 0\n",
    "        for i = 1:N\n",
    "            x1 = rand(dist, d)\n",
    "            x2 = rand(dist, d)\n",
    "            EkX1X2 += k(x1,x2,σ)\n",
    "        end\n",
    "        EkX1X2 /= N\n",
    "        EkX1X2_lookup[i,j] = EkX1X2\n",
    "    end\n",
    "end"
   ]
  },
  {
   "cell_type": "code",
   "execution_count": 23,
   "metadata": {},
   "outputs": [
    {
     "data": {
      "text/plain": [
       "ub (generic function with 3 methods)"
      ]
     },
     "execution_count": 23,
     "metadata": {},
     "output_type": "execute_result"
    }
   ],
   "source": [
    "function ub(n,i,j,σ,d)\n",
    "    return 2*exp(d/(6*σ^2))*sqrt((EkXX_lookup[i,j] - EkX1X2_lookup[i,j])/n)\n",
    "end"
   ]
  },
  {
   "cell_type": "code",
   "execution_count": 40,
   "metadata": {},
   "outputs": [
    {
     "data": {
      "image/png": "[encoded data removed]",
      "text/plain": [
       "Figure(PyObject <Figure size 233.333x200 with 1 Axes>)"
      ]
     },
     "metadata": {},
     "output_type": "display_data"
    },
    {
     "data": {
      "text/plain": [
       "PyObject <matplotlib.legend.Legend object at 0x0000000000FB60B8>"
      ]
     },
     "execution_count": 40,
     "metadata": {},
     "output_type": "execute_result"
    }
   ],
   "source": [
    "fig = figure(figsize=(3.5/3*2, 3/3*2))\n",
    "sample_sizes = 1:10000\n",
    "colors = plt.rcParams[\"axes.prop_cycle\"].by_key()[\"color\"]\n",
    "for i = 1:length(dimensions)\n",
    "    d = dimensions[i]\n",
    "    for j = 5\n",
    "        σ = sigmas[j]\n",
    "        plot(sample_sizes, [ub(n,i,j,σ,d) for n in sample_sizes], color=colors[i], linestyle=\"-\", label=\"d=$(d)\")\n",
    "    end\n",
    "\n",
    "end\n",
    "xlabel(L\"number of observations $n$\")\n",
    "xscale(\"log\")\n",
    "yscale(\"log\")\n",
    "ylabel(L\"upper bound on $W_2^{(\\sigma)}$\")\n",
    "legend()"
   ]
  }
 ],
 "metadata": {
  "kernelspec": {
   "display_name": "Julia 1.6.1",
   "language": "julia",
   "name": "julia-1.6"
  },
  "language_info": {
   "file_extension": ".jl",
   "mimetype": "application/julia",
   "name": "julia",
   "version": "1.6.1"
  }
 },
 "nbformat": 4,
 "nbformat_minor": 2
}
