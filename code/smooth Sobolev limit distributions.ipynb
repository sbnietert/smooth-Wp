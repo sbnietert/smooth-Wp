{
 "cells": [
  {
   "cell_type": "code",
   "execution_count": null,
   "metadata": {},
   "outputs": [],
   "source": [
    "using SpecialFunctions\n",
    "using PyPlot\n",
    "using LinearAlgebra\n",
    "using Random, Distributions\n",
    "using KernelDensity\n",
    "using LaTeXStrings\n",
    "using JLD"
   ]
  },
  {
   "cell_type": "code",
   "execution_count": null,
   "metadata": {},
   "outputs": [],
   "source": [
    "γ = 0.5772156649015328606065121; # Euler-Mascheroni constant\n",
    "Ein(z) = (z == 0) ? 0 : γ + log(abs(z)) - expinti(-z);\n",
    "k(x,y,σ) = - σ^2 * Ein(-x⋅y / σ^2);\n",
    "MMD2(P,Q,σ) = mean([mean([k(x, x2,σ) for x2 in P]) - 2*mean([k(x,y,σ) for y in Q]) for x in P]) +\n",
    "            mean([k(y, y2,σ) for y in Q, y2 in Q]);"
   ]
  },
  {
   "cell_type": "code",
   "execution_count": null,
   "metadata": {},
   "outputs": [],
   "source": [
    "d = 5\n",
    "D = Uniform(-1,1)\n",
    "σ = 0.5\n",
    "sample_sizes = [25]#, 50, 100, 200, 400]#, 100, 200]\n",
    "T = 1000 # >> max num samples\n",
    "N = 50\n",
    "\n",
    "data = zeros(length(sample_sizes), N)\n",
    "\n",
    "P = rand(D, T, d)\n",
    "for (i,n) in enumerate(sample_sizes)\n",
    "    println(i) \n",
    "    #Threads.@threads for j = 1:N\n",
    "    for j = 1:N\n",
    "        println(j)\n",
    "        Pn = rand(D, n, d)\n",
    "        data[i,j] = sqrt(n*MMD2(P, Pn, σ))\n",
    "    end\n",
    "end"
   ]
  },
  {
   "cell_type": "code",
   "execution_count": null,
   "metadata": {},
   "outputs": [],
   "source": [
    "function log_kde(data)\n",
    "    d = kde(log.(data))\n",
    "    x = exp.(d.x)\n",
    "    y = d.density\n",
    "    area = (circshift(x, -1) .- x)[1:(end-1)]⋅y[1:(end-1)]\n",
    "    return (x, y/area)\n",
    "end"
   ]
  },
  {
   "cell_type": "code",
   "execution_count": null,
   "metadata": {},
   "outputs": [],
   "source": [
    "ns = [25, 50, 100, 200]\n",
    "sis = [1,3,2,4]\n",
    "sigmas = [0.1, 0.2, 0.5, 1]\n",
    "\n",
    "fig, axs = subplots(2,2, figsize=(5,4.5))\n",
    "xlims = [[0,0.4], [0,0.7], [0,1.6], [0,65]]\n",
    "\n",
    "for i = 1:length(sigmas)\n",
    "    sigma = sigmas[sis[i]]\n",
    "    for (j,n) in enumerate(ns)\n",
    "        x,y = log_kde(data2[sis[i],j,:])\n",
    "        axs[i].plot(x,y, label=\"n = $(ns[j])\")\n",
    "        axs[i].set_xlim(xlims[sis[i]])\n",
    "    end\n",
    "    axs[i].set_xlabel(L\"$\\sqrt{n} d_2^{(1)}(\\,\\hat{\\mu}_n,\\mu), \\,\\, \\mu = \\mathcal{N}_{\" * \"$(sigma)\" * L\"}$\")\n",
    "end\n",
    "axs[1].legend()\n",
    "axs[1].set_ylabel(\"density estimate\")\n",
    "axs[2].set_ylabel(\"density estimate\")\n",
    "subplots_adjust(wspace=0.3, hspace=0.4)"
   ]
  }
 ],
 "metadata": {
  "kernelspec": {
   "display_name": "Julia 1.1.1",
   "language": "julia",
   "name": "julia-1.1"
  },
  "language_info": {
   "file_extension": ".jl",
   "mimetype": "application/julia",
   "name": "julia",
   "version": "1.1.1"
  }
 },
 "nbformat": 4,
 "nbformat_minor": 2
}
